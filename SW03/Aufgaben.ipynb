{
 "cells": [
  {
   "cell_type": "code",
   "execution_count": 10,
   "outputs": [
    {
     "name": "stdout",
     "text": [
      "1.17.3\n0.25.3\n0    3\n1    2\n2    1\ndtype: int64\n   0\n3  6\n2  5\n1  4\n"
     ],
     "output_type": "stream"
    }
   ],
   "source": [
    "import numpy as np\n",
    "import pandas as pd\n",
    "from pandas import Series, DataFrame\n",
    "from scipy.stats import uniform, expon, norm\n",
    "\n",
    "print(np.__version__)\n",
    "print(pd.__version__)\n",
    "series = Series([3,2,1])\n",
    "df = DataFrame([6,5,4],[3,2,1])\n",
    "print(series)\n",
    "print(df)"
   ],
   "metadata": {
    "collapsed": false,
    "pycharm": {
     "name": "#%%\n",
     "is_executing": false
    }
   }
  },
  {
   "cell_type": "code",
   "execution_count": 29,
   "outputs": [
    {
     "name": "stdout",
     "text": [
      "(70.60054023189919, 129.39945976810083)\n[ 70.60054023 129.39945977]\n[0.025 0.975]\n0.6826894921370859\n"
     ],
     "output_type": "stream"
    },
    {
     "data": {
      "text/plain": "0.8707618877599821"
     },
     "metadata": {},
     "output_type": "execute_result",
     "execution_count": 29
    }
   ],
   "source": [
    "print(norm.interval(alpha=0.95, loc=100, scale=15))\n",
    "#with ppf it looks like this\n",
    "print(norm.ppf(q=[0.025,0.975],loc=100, scale=15))\n",
    "\n",
    "# umgekehrt die cdf funktion\n",
    "print(norm.cdf(x=norm.ppf(q=[0.025,0.975],loc=100, scale=15), loc=100, scale=15))\n",
    "\n",
    "val = norm.cdf(x=[85,115], loc=100, scale=15)\n",
    "print(val[1] - val[0])\n",
    "\n",
    "#standardnormalverteilung\n",
    "# wahrscheinlichkeit kleiner oder gleich 1.13 bei x\n",
    "norm.cdf(x=1.13)"
   ],
   "metadata": {
    "collapsed": false,
    "pycharm": {
     "name": "#%%\n",
     "is_executing": false
    }
   }
  },
  {
   "cell_type": "code",
   "execution_count": null,
   "outputs": [],
   "source": [
    "\n"
   ],
   "metadata": {
    "collapsed": false,
    "pycharm": {
     "name": "#%%\n"
    }
   }
  }
 ],
 "metadata": {
  "kernelspec": {
   "display_name": "Python 3",
   "language": "python",
   "name": "python3"
  },
  "language_info": {
   "codemirror_mode": {
    "name": "ipython",
    "version": 3
   },
   "file_extension": ".py",
   "mimetype": "text/x-python",
   "name": "python",
   "nbconvert_exporter": "python",
   "pygments_lexer": "ipython3",
   "version": "3.7.3"
  },
  "pycharm": {
   "stem_cell": {
    "cell_type": "raw",
    "source": [],
    "metadata": {
     "collapsed": false
    }
   }
  }
 },
 "nbformat": 4,
 "nbformat_minor": 2
}