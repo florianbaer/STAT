{
 "cells": [
  {
   "cell_type": "code",
   "execution_count": 10,
   "metadata": {},
   "outputs": [
    {
     "name": "stdout",
     "output_type": "stream",
     "text": [
      "0\that Wert 0.0\n",
      "1\that Wert 0.1111111111111111\n",
      "2\that Wert 0.1111111111111111\n",
      "3\that Wert 0.1111111111111111\n",
      "4\that Wert 0.1111111111111111\n",
      "5\that Wert 0.1111111111111111\n",
      "6\that Wert 0.1111111111111111\n",
      "7\that Wert 0.1111111111111111\n",
      "8\that Wert 0.1111111111111111\n",
      "9\that Wert 0.1111111111111111\n",
      "10\that Wert 0.1111111111111111\n",
      "11\that Wert 0.0\n"
     ]
    },
    {
     "data": {
      "text/plain": [
       "[None, None, None, None, None, None, None, None, None, None, None, None]"
      ]
     },
     "execution_count": 10,
     "metadata": {},
     "output_type": "execute_result"
    }
   ],
   "source": [
    "from scipy.stats import uniform, expon, norm\n",
    "import numpy as np\n",
    "# Wahrscheinlichkeitsdichtefunktion für Uniform [1, 10] an der Stelle 5\n",
    "# print(uniform.pdf(x=5, loc=1, scale=9))\n",
    "# Dieser Wert ist keine Wahrscheinlichkeit sondern nur der Wert der Wahrscheinlichkeitsdichtefunktion. Die Dichte der Wahrscheinlichkeiten hat diesen Wert\n",
    "[print(\"{}\\that Wert {}\".format(x, uniform.pdf(x=x, loc=1, scale=9))) for x in range(0, 12)]"
   ]
  },
  {
   "cell_type": "code",
   "execution_count": 3,
   "metadata": {},
   "outputs": [
    {
     "name": "stdout",
     "output_type": "stream",
     "text": [
      "0\that Wert 0.0\n",
      "1\that Wert 0.0\n",
      "2\that Wert 0.1111111111111111\n",
      "3\that Wert 0.2222222222222222\n",
      "4\that Wert 0.3333333333333333\n",
      "5\that Wert 0.4444444444444444\n",
      "6\that Wert 0.5555555555555556\n",
      "7\that Wert 0.6666666666666666\n",
      "8\that Wert 0.7777777777777778\n",
      "9\that Wert 0.8888888888888888\n",
      "10\that Wert 1.0\n",
      "11\that Wert 1.0\n"
     ]
    },
    {
     "data": {
      "text/plain": [
       "[None, None, None, None, None, None, None, None, None, None, None, None]"
      ]
     },
     "execution_count": 3,
     "metadata": {},
     "output_type": "execute_result"
    }
   ],
   "source": [
    "# Das ist die funktion für das Bestimmte Integral --> CDF = Cumulative density function Wahrscheinlichkeitsdichtefunktion\n",
    "[print(\"{}\\that Wert {}\".format(x, uniform.cdf(x=x, loc=1, scale=9))) for x in range(0, 12)]"
   ]
  },
  {
   "cell_type": "code",
   "execution_count": 4,
   "metadata": {},
   "outputs": [
    {
     "data": {
      "text/plain": [
       "0.4"
      ]
     },
     "execution_count": 4,
     "metadata": {},
     "output_type": "execute_result"
    }
   ],
   "source": [
    "# Berechnung der Wahrscheinlichkeitsdichte \n",
    "uniform.cdf(x=4.8, loc=1, scale=9) - uniform.cdf(x=1.2, loc=1, scale=9)"
   ]
  },
  {
   "cell_type": "code",
   "execution_count": 5,
   "metadata": {},
   "outputs": [
    {
     "data": {
      "text/plain": [
       "array([2.37958675, 2.33255603, 4.49680472, 4.52156682, 6.46741019])"
      ]
     },
     "execution_count": 5,
     "metadata": {},
     "output_type": "execute_result"
    }
   ],
   "source": [
    "# Wichtig ist auch die generierung von Zufallsvariablen\n",
    "uniform.rvs(loc=1, scale=9, size=5)\n",
    "# Gibt 5 Zufallsvariablen im gegenen Range"
   ]
  },
  {
   "cell_type": "code",
   "execution_count": 19,
   "metadata": {},
   "outputs": [
    {
     "data": {
      "text/plain": [
       "[0.5,\n",
       " 0.3032653298563167,\n",
       " 0.18393972058572117,\n",
       " 0.11156508007421492,\n",
       " 0.06766764161830635,\n",
       " 0.0410424993119494,\n",
       " 0.024893534183931976,\n",
       " 0.015098691711159254,\n",
       " 0.009157819444367093,\n",
       " 0.005554498269121155,\n",
       " 0.0033689734995427344,\n",
       " 0.002043385719232034]"
      ]
     },
     "execution_count": 19,
     "metadata": {},
     "output_type": "execute_result"
    }
   ],
   "source": [
    "y= 1\n",
    "[(y* np.e**(-y*x)) for x in range(0, 12)]"
   ]
  },
  {
   "cell_type": "code",
   "execution_count": 20,
   "metadata": {},
   "outputs": [
    {
     "data": {
      "text/plain": [
       "0.9999938557876467"
      ]
     },
     "execution_count": 20,
     "metadata": {},
     "output_type": "execute_result"
    }
   ],
   "source": [
    "expon.cdf(x=4, scale=1/3)"
   ]
  },
  {
   "cell_type": "code",
   "execution_count": 21,
   "metadata": {},
   "outputs": [
    {
     "data": {
      "text/plain": [
       "0.02275013194817921"
      ]
     },
     "execution_count": 21,
     "metadata": {},
     "output_type": "execute_result"
    }
   ],
   "source": [
    "# Wahrscheinlichkeit, dass jemand einen IQ von > 130 hat\n",
    "1 - norm.cdf(x=130, loc=100, scale=15)\n",
    "# loc = mittelpunkt; scale = quardatwurzel von standardabweichung"
   ]
  },
  {
   "cell_type": "code",
   "execution_count": 27,
   "metadata": {},
   "outputs": [
    {
     "data": {
      "text/plain": [
       "'95% der Menschen haben einen IQ von 70.60054023189917 bis 129.39945976810083'"
      ]
     },
     "execution_count": 27,
     "metadata": {},
     "output_type": "execute_result"
    }
   ],
   "source": [
    "# welchen IQ haben 95% von allen Menschen?\n",
    "# mit ppf werden die quantile berechnet\n",
    "\"95% der Menschen haben einen IQ von {} bis {}\".format(norm.ppf(q=0.025, loc=100, scale=15),norm.ppf(q=0.975, loc=100, scale=15))"
   ]
  },
  {
   "cell_type": "markdown",
   "metadata": {},
   "source": [
    "Der Anhang ppf(...) zum Befehl norm ist die Abkürzung für probability\n",
    "point function. Diese Funktion ist die Umkehrung der cdf()-Funktion. Sie\n",
    "bestimmt aus einem Wert eine Wahrscheinlichkeit."
   ]
  },
  {
   "cell_type": "code",
   "execution_count": 32,
   "metadata": {},
   "outputs": [
    {
     "data": {
      "text/plain": [
       "0.6826894921370859"
      ]
     },
     "execution_count": 32,
     "metadata": {},
     "output_type": "execute_result"
    }
   ],
   "source": [
    "norm.cdf(x=115, loc=100, scale=15) - norm.cdf(x=85, loc=100, scale=15)\n",
    "# D.h., etwa 2/3 der Bevölkerung haben einen IQ zwischen 85 und 115."
   ]
  },
  {
   "cell_type": "code",
   "execution_count": 34,
   "metadata": {},
   "outputs": [
    {
     "data": {
      "text/plain": [
       "0.8707618877599821"
      ]
     },
     "execution_count": 34,
     "metadata": {},
     "output_type": "execute_result"
    }
   ],
   "source": [
    "# hier kommt die Standardnormalverteilung -->  µ = 0 und σ^2 = 1\n",
    "norm.cdf(x=1.13)"
   ]
  },
  {
   "cell_type": "code",
   "execution_count": 35,
   "metadata": {},
   "outputs": [
    {
     "data": {
      "text/plain": [
       "0.8098959147358981"
      ]
     },
     "execution_count": 35,
     "metadata": {},
     "output_type": "execute_result"
    }
   ],
   "source": [
    "#Für welchen Wert von z ist Φ(z) = 0.7910? (zu R)\n",
    "#Anders gefragt: Was ist Φ−1(0.7910)?\n",
    "norm.ppf(q=0.7910)"
   ]
  },
  {
   "cell_type": "code",
   "execution_count": 37,
   "metadata": {},
   "outputs": [
    {
     "name": "stdout",
     "output_type": "stream",
     "text": [
      "0.42074029056089696\n",
      "0.420740290560897\n"
     ]
    }
   ],
   "source": [
    "# Was ist P(Z ≤ −0.2)?\n",
    "# Weil die Standardnormalverteilung um null herum symmetrisch ist, ist die Fläche links von −0.2 wegen der Symmetrie genau so gross wie die Fläche rechts von 0.2. D.h.:\n",
    "# P(Z ≤ −0.2) = P(Z ≥ 0.2) = 1 − P(Z ≤ 0.2)\n",
    "# Dies überprüfen wir leicht mit Python (zu R)\n",
    "print(norm.cdf(x=-0.2))\n",
    "print(1 - norm.cdf(x=0.2))"
   ]
  },
  {
   "cell_type": "code",
   "execution_count": null,
   "metadata": {},
   "outputs": [],
   "source": []
  }
 ],
 "metadata": {
  "kernelspec": {
   "display_name": "Python 3",
   "language": "python",
   "name": "python3"
  },
  "language_info": {
   "codemirror_mode": {
    "name": "ipython",
    "version": 3
   },
   "file_extension": ".py",
   "mimetype": "text/x-python",
   "name": "python",
   "nbconvert_exporter": "python",
   "pygments_lexer": "ipython3",
   "version": "3.7.3"
  }
 },
 "nbformat": 4,
 "nbformat_minor": 2
}
