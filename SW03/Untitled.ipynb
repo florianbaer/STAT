{
 "cells": [
  {
   "cell_type": "code",
   "execution_count": 12,
   "metadata": {},
   "outputs": [
    {
     "name": "stdout",
     "output_type": "stream",
     "text": [
      "0\that Wert 0.0\n",
      "1\that Wert 0.1111111111111111\n",
      "2\that Wert 0.1111111111111111\n",
      "3\that Wert 0.1111111111111111\n",
      "4\that Wert 0.1111111111111111\n",
      "5\that Wert 0.1111111111111111\n",
      "6\that Wert 0.1111111111111111\n",
      "7\that Wert 0.1111111111111111\n",
      "8\that Wert 0.1111111111111111\n",
      "9\that Wert 0.1111111111111111\n",
      "10\that Wert 0.1111111111111111\n",
      "11\that Wert 0.0\n"
     ]
    },
    {
     "data": {
      "text/plain": [
       "[None, None, None, None, None, None, None, None, None, None, None, None]"
      ]
     },
     "execution_count": 12,
     "metadata": {},
     "output_type": "execute_result"
    }
   ],
   "source": [
    "from scipy.stats import uniform, expon, norm\n",
    "# Wahrscheinlichkeitsdichtefunktion für Uniform [1, 10] an der Stelle 5\n",
    "# print(uniform.pdf(x=5, loc=1, scale=9))\n",
    "# Dieser Wert ist keine Wahrscheinlichkeit sondern nur der Wert der Wahrscheinlichkeitsdichtefunktion. Die Dichte der Wahrscheinlichkeiten hat diesen Wert\n",
    "[print(\"{}\\that Wert {}\".format(x, uniform.pdf(x=x, loc=1, scale=9))) for x in range(0, 12)]"
   ]
  },
  {
   "cell_type": "code",
   "execution_count": null,
   "metadata": {},
   "outputs": [],
   "source": []
  }
 ],
 "metadata": {
  "kernelspec": {
   "display_name": "Python 3",
   "language": "python",
   "name": "python3"
  },
  "language_info": {
   "codemirror_mode": {
    "name": "ipython",
    "version": 3
   },
   "file_extension": ".py",
   "mimetype": "text/x-python",
   "name": "python",
   "nbconvert_exporter": "python",
   "pygments_lexer": "ipython3",
   "version": "3.7.3"
  }
 },
 "nbformat": 4,
 "nbformat_minor": 2
}
