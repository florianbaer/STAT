{
 "cells": [
  {
   "cell_type": "code",
   "execution_count": 4,
   "outputs": [
    {
     "name": "stdout",
     "text": [
      "80.02076923076923\n0.023965787580611863\n"
     ],
     "output_type": "stream"
    }
   ],
   "source": [
    "from pandas import Series, DataFrame\n",
    "import pandas as pd\n",
    "import numpy as np\n",
    "methodeA = Series([79.98, 80.04, 80.02, 80.04, 80.03, 80.03, 80.04,\n",
    "79.97, 80.05, 80.03, 80.02, 80.00, 80.02])\n",
    "print(methodeA.mean())\n",
    "print(methodeA.std())"
   ],
   "metadata": {
    "collapsed": false,
    "pycharm": {
     "name": "#%%\n",
     "is_executing": false
    }
   }
  },
  {
   "cell_type": "code",
   "execution_count": 15,
   "outputs": [
    {
     "name": "stdout",
     "text": [
      "0    80.03\n1    79.99\n2    79.99\n3    79.98\n4    80.02\n5    79.95\ndtype: float64\n79.99333333333333\n0.028751811537128993\n"
     ],
     "output_type": "stream"
    }
   ],
   "source": [
    "from scipy.stats import norm\n",
    "np.random.seed(1)\n",
    "methodeA_sim1 = Series(np.round(norm.rvs(size=6, loc=80, scale=0.02), 2))\n",
    "print(methodeA_sim1)\n",
    "print(methodeA_sim1.mean())\n",
    "print(methodeA_sim1.std())"
   ],
   "metadata": {
    "collapsed": false,
    "pycharm": {
     "name": "#%%\n",
     "is_executing": false
    }
   }
  },
  {
   "cell_type": "code",
   "execution_count": 18,
   "outputs": [
    {
     "name": "stdout",
     "text": [
      "Mittelwert: 80.01\nStandardabw.: 0.027\n\nMittelwert: 80.007\nStandardabw.: 0.02\n\nMittelwert: 79.992\nStandardabw.: 0.028\n\nMittelwert: 79.995\nStandardabw.: 0.016\n\nMittelwert: 79.992\nStandardabw.: 0.013\n\n"
     ],
     "output_type": "stream"
    }
   ],
   "source": [
    "np.random.seed(17)\n",
    "for i in range(5):\n",
    "    methodeA_sim1 = Series(np.round(norm.rvs(size=6, loc=80, scale=0.02), 2))\n",
    "    print(\"Mittelwert:\", np.round(methodeA_sim1.mean(), 3))\n",
    "    print(\"Standardabw.:\", np.round(methodeA_sim1.std(), 3))\n",
    "    print()"
   ],
   "metadata": {
    "collapsed": false,
    "pycharm": {
     "name": "#%%\n",
     "is_executing": false
    }
   }
  },
  {
   "cell_type": "code",
   "execution_count": 20,
   "outputs": [
    {
     "data": {
      "text/plain": "0.019999999999998862"
     },
     "metadata": {},
     "output_type": "execute_result",
     "execution_count": 20
    }
   ],
   "source": [
    "np.random.seed(463137)\n",
    "methodeA_sim2 = Series(np.round(norm.rvs(size=6, loc=80, scale=0.02), 2))\n",
    "methodeA_sim2\n",
    "methodeA_sim2.mean()\n",
    "methodeA_sim2.std()\n",
    "\n",
    "\n"
   ],
   "metadata": {
    "collapsed": false,
    "pycharm": {
     "name": "#%%\n",
     "is_executing": false
    }
   }
  },
  {
   "cell_type": "code",
   "execution_count": 23,
   "outputs": [
    {
     "name": "stdout",
     "text": [
      "0     79.98\n1     79.99\n2     80.00\n3     79.93\n4     80.00\n5     79.98\n6     80.00\n7     80.02\n8     79.99\n9     80.00\n10    80.03\n11    80.00\n12    79.99\ndtype: float64\n79.99307692307691\n0.023588350014576355\n"
     ],
     "output_type": "stream"
    }
   ],
   "source": [
    "np.random.seed(647)\n",
    "methodeA_sim3 = Series(np.round(norm.rvs(size=13, loc=80, scale= 0.02), 2))\n",
    "print(methodeA_sim3)\n",
    "print(methodeA_sim3.mean())\n",
    "print(methodeA_sim3.std())\n"
   ],
   "metadata": {
    "collapsed": false,
    "pycharm": {
     "name": "#%%\n",
     "is_executing": false
    }
   }
  },
  {
   "cell_type": "code",
   "execution_count": 26,
   "outputs": [
    {
     "data": {
      "text/plain": "0.007152939217724509"
     },
     "metadata": {},
     "output_type": "execute_result",
     "execution_count": 26
    }
   ],
   "source": [
    "#wahrscheinlichkeit, dass Mittelwert von 6 zahlen kleiner ist als 79.98 \n",
    "norm.cdf(x=79.98, loc=80, scale=0.02/np.sqrt(6))\n",
    "\n"
   ],
   "metadata": {
    "collapsed": false,
    "pycharm": {
     "name": "#%%\n",
     "is_executing": false
    }
   }
  },
  {
   "cell_type": "code",
   "execution_count": 32,
   "outputs": [
    {
     "name": "stdout",
     "text": [
      "79.98399696107882\n80.01600303892118\n"
     ],
     "output_type": "stream"
    }
   ],
   "source": [
    "#range berechnen, welcher passt\n",
    "print(norm.ppf(q=0.025, loc=80, scale=0.02/np.sqrt(6)))\n",
    "print(norm.ppf(q=0.975, loc=80, scale=0.02/np.sqrt(6)))"
   ],
   "metadata": {
    "collapsed": false,
    "pycharm": {
     "name": "#%%\n",
     "is_executing": false
    }
   }
  },
  {
   "cell_type": "code",
   "execution_count": 31,
   "outputs": [
    {
     "data": {
      "text/plain": "79.98"
     },
     "metadata": {},
     "output_type": "execute_result",
     "execution_count": 31
    }
   ],
   "source": [
    "series = Series([ 79.98, 79.99,  80.00,  79.93, 80.00, 79.98])\n",
    "series.mean()"
   ],
   "metadata": {
    "collapsed": false,
    "pycharm": {
     "name": "#%%\n",
     "is_executing": false
    }
   }
  },
  {
   "cell_type": "code",
   "execution_count": 33,
   "outputs": [
    {
     "data": {
      "text/plain": "4.816785043049165e-07"
     },
     "metadata": {},
     "output_type": "execute_result",
     "execution_count": 33
    }
   ],
   "source": [
    "#Beispiel bei mittelwert 80.04 \n",
    "1 - norm.cdf(x=80.04, loc=80, scale=0.02/np.sqrt(6))\n",
    "\n"
   ],
   "metadata": {
    "collapsed": false,
    "pycharm": {
     "name": "#%%\n",
     "is_executing": false
    }
   }
  },
  {
   "cell_type": "code",
   "execution_count": 36,
   "outputs": [
    {
     "data": {
      "text/plain": "array([499.8040036, 500.1959964])"
     },
     "metadata": {},
     "output_type": "execute_result",
     "execution_count": 36
    }
   ],
   "source": [
    "# Beispiel von Abfüllen\n",
    "\n",
    "norm.ppf(q=[0.025, 0.975], loc=500, scale=1/np.sqrt(100))"
   ],
   "metadata": {
    "collapsed": false,
    "pycharm": {
     "name": "#%%\n",
     "is_executing": false
    }
   }
  },
  {
   "cell_type": "code",
   "execution_count": 38,
   "outputs": [
    {
     "data": {
      "text/plain": "174.18456423161663"
     },
     "metadata": {},
     "output_type": "execute_result",
     "execution_count": 38
    }
   ],
   "source": [
    "#Verwerfung nur nach unten - aber wieder 5% quantil\n",
    "norm.ppf(q=0.05, loc=180, scale=10/np.sqrt(8))\n"
   ],
   "metadata": {
    "collapsed": false,
    "pycharm": {
     "name": "#%%\n",
     "is_executing": false
    }
   }
  },
  {
   "cell_type": "code",
   "execution_count": 40,
   "outputs": [
    {
     "data": {
      "text/plain": "0.008359052027838012"
     },
     "metadata": {},
     "output_type": "execute_result",
     "execution_count": 40
    }
   ],
   "source": [
    "# Neuer mittelwert der Testfrauengrössen\n",
    "norm.cdf(x=171.54, loc=180, scale=10/np.sqrt(8))\n",
    "#P(X6 < 171.54) = 0.008\n"
   ],
   "metadata": {
    "collapsed": false,
    "pycharm": {
     "name": "#%%\n",
     "is_executing": false
    }
   }
  },
  {
   "cell_type": "code",
   "execution_count": 41,
   "outputs": [
    {
     "data": {
      "text/plain": "0.07864960352518385"
     },
     "metadata": {},
     "output_type": "execute_result",
     "execution_count": 41
    }
   ],
   "source": [
    "# test, ob wird die hypothese verwerfen müssen\n",
    "norm.cdf(x=79.98, loc=80, scale=0.02/np.sqrt(2))\n",
    "# je mehr beispieldaten, desto grösser muss die abweichung sein\n"
   ],
   "metadata": {
    "collapsed": false,
    "pycharm": {
     "name": "#%%\n",
     "is_executing": false
    }
   }
  },
  {
   "cell_type": "code",
   "execution_count": 43,
   "outputs": [
    {
     "data": {
      "text/plain": "(79.9945640379659, 80.0054359620341)"
     },
     "metadata": {},
     "output_type": "execute_result",
     "execution_count": 43
    }
   ],
   "source": [
    "norm.ppf(q=[0.025, 0.975], loc=80, scale=0.01/np.sqrt(13))\n",
    "## [79.99456404 80.00543596]\n",
    "# oder einfacher\n",
    "norm.interval(alpha=0.95, loc=80, scale=0.01/np.sqrt(13))\n",
    "## (79.9945640379659, 80.0054359620341)\n",
    "\n",
    "\n"
   ],
   "metadata": {
    "collapsed": false,
    "pycharm": {
     "name": "#%%\n",
     "is_executing": false
    }
   }
  },
  {
   "cell_type": "code",
   "execution_count": 46,
   "outputs": [
    {
     "data": {
      "text/plain": "1.8838021462764578"
     },
     "metadata": {},
     "output_type": "execute_result",
     "execution_count": 46
    }
   ],
   "source": [
    "from scipy.stats import norm, t\n",
    "import numpy as np\n",
    "from pandas import Series\n",
    "x = Series([5.9, 3.4, 6.6, 6.3, 4.2, 2.0, 6.0, 4.8, 4.2, 2.1, 8.7, 4.4, 5.1, 2.7, 8.5, 5.8, 4.9, 5.3, 5.5, 7.9])\n",
    "x.std()"
   ],
   "metadata": {
    "collapsed": false,
    "pycharm": {
     "name": "#%%\n",
     "is_executing": false
    }
   }
  },
  {
   "cell_type": "code",
   "execution_count": 48,
   "outputs": [
    {
     "data": {
      "text/plain": "0.6921780567888249"
     },
     "metadata": {},
     "output_type": "execute_result",
     "execution_count": 48
    }
   ],
   "source": [
    "t.cdf(x=x.mean(), df=x.size-1, loc=5, scale=x.std()/np.sqrt(x.size))\n",
    "\n"
   ],
   "metadata": {
    "collapsed": false,
    "pycharm": {
     "name": "#%%\n",
     "is_executing": false
    }
   }
  },
  {
   "cell_type": "code",
   "execution_count": 50,
   "outputs": [
    {
     "data": {
      "text/plain": "0.6921780567888249"
     },
     "metadata": {},
     "output_type": "execute_result",
     "execution_count": 50
    }
   ],
   "source": [
    "\n",
    "x = Series([5.9, 3.4, 6.6, 6.3, 4.2, 2.0, 6.0, 4.8, 4.2, 2.1, 8.7, 4.4, 5.1, 2.7, 8.5, 5.8, 4.9, 5.3, 5.5, 7.9])\n",
    "mean_x = x.mean()\n",
    "std_x = x.std()\n",
    "t_x = (mean_x-5 ) / (std_x/np.sqrt(x.size))\n",
    "t.cdf(x=t_x, df=x.size-1)"
   ],
   "metadata": {
    "collapsed": false,
    "pycharm": {
     "name": "#%%\n",
     "is_executing": false
    }
   }
  },
  {
   "cell_type": "code",
   "execution_count": 52,
   "outputs": [
    {
     "data": {
      "text/plain": "2.1788128296634177"
     },
     "metadata": {},
     "output_type": "execute_result",
     "execution_count": 52
    }
   ],
   "source": [
    "from scipy.stats import norm, t\n",
    "t.ppf(q=0.975, df=12)"
   ],
   "metadata": {
    "collapsed": false,
    "pycharm": {
     "name": "#%%\n",
     "is_executing": false
    }
   }
  },
  {
   "cell_type": "code",
   "execution_count": 53,
   "outputs": [
    {
     "data": {
      "text/plain": "(79.98549694515017, 80.01450305484983)"
     },
     "metadata": {},
     "output_type": "execute_result",
     "execution_count": 53
    }
   ],
   "source": [
    "t.interval(alpha=0.95, df=12, loc=80, scale=0.024/np.sqrt(13))\n"
   ],
   "metadata": {
    "collapsed": false,
    "pycharm": {
     "name": "#%%\n",
     "is_executing": false
    }
   }
  },
  {
   "cell_type": "code",
   "execution_count": 54,
   "outputs": [
    {
     "data": {
      "text/plain": "Ttest_1sampResult(statistic=2.725336144089578, pvalue=0.023402502748930874)"
     },
     "metadata": {},
     "output_type": "execute_result",
     "execution_count": 54
    }
   ],
   "source": [
    "import scipy.stats as st\n",
    "x = Series([79.98, 80.04, 80.02, 80.04, 80.03, 80.03, 80.04, 79.97, 80.05, 80.03])\n",
    "st.ttest_1samp(a=x, popmean=80)\n",
    "\n",
    "\n"
   ],
   "metadata": {
    "collapsed": false,
    "pycharm": {
     "name": "#%%\n",
     "is_executing": false
    }
   }
  }
 ],
 "metadata": {
  "kernelspec": {
   "display_name": "Python 3",
   "language": "python",
   "name": "python3"
  },
  "language_info": {
   "codemirror_mode": {
    "name": "ipython",
    "version": 2
   },
   "file_extension": ".py",
   "mimetype": "text/x-python",
   "name": "python",
   "nbconvert_exporter": "python",
   "pygments_lexer": "ipython2",
   "version": "2.7.6"
  },
  "pycharm": {
   "stem_cell": {
    "cell_type": "raw",
    "source": [],
    "metadata": {
     "collapsed": false
    }
   }
  }
 },
 "nbformat": 4,
 "nbformat_minor": 0
}