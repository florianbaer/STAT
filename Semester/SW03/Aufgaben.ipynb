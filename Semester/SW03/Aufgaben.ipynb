{
 "cells": [
  {
   "cell_type": "code",
   "execution_count": 4,
   "outputs": [
    {
     "name": "stdout",
     "text": [
      "1.17.3\n0.25.3\n0    3\n1    2\n2    1\ndtype: int64\n   0\n3  6\n2  5\n1  4\n"
     ],
     "output_type": "stream"
    }
   ],
   "source": [
    "import numpy as np\n",
    "import pandas as pd\n",
    "from pandas import Series, DataFrame\n",
    "from scipy.stats import uniform, expon, norm\n",
    "\n",
    "print(np.__version__)\n",
    "print(pd.__version__)\n",
    "series = Series([3,2,1])\n",
    "df = DataFrame([6,5,4],[3,2,1])\n",
    "print(series)\n",
    "print(df)"
   ],
   "metadata": {
    "collapsed": false,
    "pycharm": {
     "name": "#%%\n",
     "is_executing": false
    }
   }
  },
  {
   "cell_type": "code",
   "execution_count": 16,
   "outputs": [
    {
     "name": "stdout",
     "text": [
      "(70.60054023189919, 129.39945976810083)\n[ 70.60054023 129.39945977]\n[0.025 0.975]\n0.6826894921370859\n0.24197072451914337\n"
     ],
     "output_type": "stream"
    }
   ],
   "source": [
    "print(norm.interval(alpha=0.95, loc=100, scale=15))\n",
    "#with ppf it looks like this\n",
    "print(norm.ppf(q=[0.025,0.975],loc=100, scale=15))\n",
    "\n",
    "# umgekehrt die cdf funktion\n",
    "print(norm.cdf(x=norm.ppf(q=[0.025,0.975],loc=100, scale=15), loc=100, scale=15))\n",
    "\n",
    "val = norm.cdf(x=[85,115], loc=100, scale=15)\n",
    "print(val[1] - val[0])\n",
    "\n",
    "#standardnormalverteilung\n",
    "# wahrscheinlichkeit kleiner oder gleich 1.13 bei x\n",
    "norm.cdf(x=1.13)\n",
    "\n",
    "print(norm.pdf(x = -1))"
   ],
   "metadata": {
    "collapsed": false,
    "pycharm": {
     "name": "#%%\n",
     "is_executing": false
    }
   }
  },
  {
   "cell_type": "markdown",
   "source": [
    "# Aufgaben\n",
    "## Aufgabe 3.1\n",
    "Stammfunktion berechnen\n",
    "\n",
    "#d "
   ],
   "metadata": {
    "collapsed": false,
    "pycharm": {
     "name": "#%% md\n",
     "is_executing": false
    }
   }
  },
  {
   "cell_type": "code",
   "execution_count": 18,
   "outputs": [
    {
     "data": {
      "text/plain": "30.0"
     },
     "metadata": {},
     "output_type": "execute_result",
     "execution_count": 18
    }
   ],
   "source": [
    "(5*60**3 - 60**4/16)*1/9000\n"
   ],
   "metadata": {
    "collapsed": false,
    "pycharm": {
     "name": "#%%\n",
     "is_executing": false
    }
   }
  },
  {
   "cell_type": "code",
   "execution_count": 25,
   "outputs": [
    {
     "name": "stdout",
     "text": [
      "6.666666666666667\n6.666666666666666\n"
     ],
     "output_type": "stream"
    }
   ],
   "source": [
    "print(20/3)\n",
    "print(20**2/20-20**3/600) "
   ],
   "metadata": {
    "collapsed": false,
    "pycharm": {
     "name": "#%%\n",
     "is_executing": false
    }
   }
  },
  {
   "cell_type": "code",
   "execution_count": null,
   "outputs": [],
   "source": [
    "2\n",
    "\n"
   ],
   "metadata": {
    "collapsed": false,
    "pycharm": {
     "name": "#%%\n"
    }
   }
  }
 ],
 "metadata": {
  "kernelspec": {
   "display_name": "Python 3",
   "language": "python",
   "name": "python3"
  },
  "language_info": {
   "codemirror_mode": {
    "name": "ipython",
    "version": 3
   },
   "file_extension": ".py",
   "mimetype": "text/x-python",
   "name": "python",
   "nbconvert_exporter": "python",
   "pygments_lexer": "ipython3",
   "version": "3.7.3"
  },
  "pycharm": {
   "stem_cell": {
    "cell_type": "raw",
    "source": [],
    "metadata": {
     "collapsed": false
    }
   }
  }
 },
 "nbformat": 4,
 "nbformat_minor": 2
}