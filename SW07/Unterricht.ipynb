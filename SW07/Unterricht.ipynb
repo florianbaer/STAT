{

 "cells": [
  {
   "cell_type": "code",
   "execution_count": 5,
   "metadata": {
    "collapsed": true,
    "pycharm": {
     "is_executing": false
    }
   },
   "outputs": [
    {
     "name": "stdout",
     "text": [
      "Arithmetisches Mittel von Messreihe Methode B: 79.97874999999999\nBootstrap Sample :  [80.03 79.97 79.97 80.02 79.97 79.94 79.97 80.03]\nArithmetisches Mittel von Bootstrap Sample: 79.9875\n"
     ],
     "output_type": "stream"
    }
   ],
   "source": [
    "import numpy as np\n",
    "np.random.seed(1)\n",
    "methode_B = np.array([80.02, 79.94, 79.98, 79.97, 79.97, 80.03, 79.95,\n",
    "79.97])\n",
    "# Arithmetisches Mittel der Messreihe methode_B\n",
    "print('Arithmetisches Mittel von Messreihe Methode B:', methode_B.mean())\n",
    "# Länge n der Messreihe methode_B\n",
    "n = methode_B.size\n",
    "# Anzahl Bootstrap samples\n",
    "nboot = 1\n",
    "# Bootstrap Sample wird aus Messreihe durch zufälliges\n",
    "# Ziehen mit Zurücklegen generiert\n",
    "bootstrap_sample = np.random.choice(methode_B, n*nboot, replace=True)\n",
    "bootstrap_sample\n",
    "print('Bootstrap Sample : ' , bootstrap_sample)\n",
    "# Arithmetisches Mittel des Bootstrap Sample\n",
    "print('Arithmetisches Mittel von Bootstrap Sample:' , bootstrap_sample.mean())"
   ]
  },
  {
   "cell_type": "code",
   "execution_count": 7,
   "outputs": [
    {
     "name": "stdout",
     "text": [
      "Bootstrap Sample :  [79.95 79.94 79.98 79.97 79.95 80.03 79.98 79.97]\nBootstrap Sample :  79.97125\n"
     ],
     "output_type": "stream"
    }
   ],
   "source": [
    "import numpy as np\n",
    "methode_B = np.array([80.02, 79.94, 79.98, 79.97, 79.97, 80.03, 79.95,\n",
    "79.97])\n",
    "n = methode_B.size\n",
    "nboot = 1\n",
    "bootstrap_sample = np.random.choice(methode_B, n*nboot, replace=True)\n",
    "bootstrap_sample\n",
    "print('Bootstrap Sample : ' , bootstrap_sample)\n",
    "## Bootstrap Sample : [80.03 79.97 79.97 80.02 79.97 79.94 79.97 80.03]\n",
    "print('Bootstrap Sample : ' , bootstrap_sample.mean())\n",
    "## Bootstrap Sample : 79.97874999999999\n",
    "## Bootstrap Sample : 79.9875\n",
    "\n",
    "\n"
   ],
   "metadata": {
    "collapsed": false,
    "pycharm": {
     "name": "#%%\n",
     "is_executing": false
    }
   }
  },
  {
   "cell_type": "code",
   "execution_count": 9,
   "outputs": [
    {
     "name": "stdout",
     "text": [
      "[79.96375 79.965   79.96625 79.96875 79.97125 79.97375 79.97625 79.9775\n 79.97875 79.98    79.98125 79.98125 79.9825  79.9825  79.98375 79.985\n 79.985   79.9875  79.99    79.99375]\nVertrauensintervall:  [79.96434375 79.99196875]\n"
     ],
     "output_type": "stream"
    }
   ],
   "source": [
    "#Wir berechnen nun die Mittelwerte in allen Spalten und ordnen diese der Reihe nach:\n",
    "import numpy as np\n",
    "np.random.seed(1)\n",
    "methode_B = np.array([80.02, 79.94, 79.98, 79.97, 79.97, 80.03,\n",
    "79.95, 79.97])\n",
    "n = methode_B.size\n",
    "nboot = 20\n",
    "bootstrap_sample = np.random.choice(methode_B, n*nboot, replace=True)\n",
    "bootstrap_sample_array = np.reshape(bootstrap_sample, (n, nboot))\n",
    "bootstrap_sample_array\n",
    "xbarstar = bootstrap_sample_array.mean(axis=0)\n",
    "np.sort(xbarstar)\n",
    "print(np.sort(xbarstar))\n",
    "\n",
    "###### Vertrauensintervall berechenen\n",
    "xbarstar = bootstrap_sample_array.mean(axis=0)\n",
    "d = np.percentile(xbarstar, q=[2.5, 97.5])\n",
    "print('Vertrauensintervall: ',d)\n",
    "\n",
    "\n"
   ],
   "metadata": {
    "collapsed": false,
    "pycharm": {
     "name": "#%%\n",
     "is_executing": false
    }
   }
  }
 ],
 "metadata": {
  "kernelspec": {
   "display_name": "Python 3",
   "language": "python",
   "name": "python3"
  },
  "language_info": {
   "codemirror_mode": {
    "name": "ipython",
    "version": 2
   },
   "file_extension": ".py",
   "mimetype": "text/x-python",
   "name": "python",
   "nbconvert_exporter": "python",
   "pygments_lexer": "ipython2",
   "version": "2.7.6"
  },
  "pycharm": {
   "stem_cell": {
    "cell_type": "raw",
    "source": [],
    "metadata": {
     "collapsed": false
    }
   }
  }
 },
 "nbformat": 4,
 "nbformat_minor": 0
}
