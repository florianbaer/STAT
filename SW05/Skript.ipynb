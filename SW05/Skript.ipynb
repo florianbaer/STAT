{
 "cells": [
  {
   "cell_type": "markdown",
   "metadata": {},
   "source": [
    "# Komplexer Q-Q-Plot"
   ]
  },
  {
   "cell_type": "code",
   "execution_count": 3,
   "metadata": {},
   "outputs": [
    {
     "data": {
      "image/png": "[encoded data removed]",
      "text/plain": [
       "<Figure size 432x288 with 1 Axes>"
      ]
     },
     "metadata": {
      "needs_background": "light"
     },
     "output_type": "display_data"
    }
   ],
   "source": [
    "import matplotlib.pyplot as plt\n",
    "import numpy as np\n",
    "from pandas import Series\n",
    "from scipy.stats import norm, probplot\n",
    "x = Series([24.4, 27.6, 27.8, 27.9, 28.5,\n",
    "30.1, 30.3, 31.7, 32.2, 32.8,\n",
    "33.3, 33.5, 34.1, 34.6, 35.8,\n",
    "35.9, 36.8, 37.1, 39.2, 39.7])\n",
    "alphak = (np.arange(1, x.size + 1) - 0.5) / x.size\n",
    "quantile_theor = norm.ppf(q=alphak, loc=x.mean(), scale=x.std())\n",
    "quantile_empir = np.sort(x)\n",
    "plt.xlabel(\"Theor. Quantile\")\n",
    "plt.ylabel(\"Empirische Quantile\")\n",
    "plt.plot(quantile_theor, quantile_empir, \"o\")\n",
    "plt.show()\n"
   ]
  },
  {
   "cell_type": "code",
   "execution_count": 6,
   "metadata": {},
   "outputs": [
    {
     "data": {
      "text/plain": [
       "((array([-1.8241636 , -1.38768012, -1.11829229, -0.91222575, -0.73908135,\n",
       "         -0.5857176 , -0.44506467, -0.31273668, -0.18568928, -0.06158146,\n",
       "          0.06158146,  0.18568928,  0.31273668,  0.44506467,  0.5857176 ,\n",
       "          0.73908135,  0.91222575,  1.11829229,  1.38768012,  1.8241636 ]),\n",
       "  array([24.4, 27.6, 27.8, 27.9, 28.5, 30.1, 30.3, 31.7, 32.2, 32.8, 33.3,\n",
       "         33.5, 34.1, 34.6, 35.8, 35.9, 36.8, 37.1, 39.2, 39.7])),\n",
       " (4.338493299839927, 32.665000000000006, 0.9923829304670189))"
      ]
     },
     "execution_count": 6,
     "metadata": {},
     "output_type": "execute_result"
    },
    {
     "data": {
      "image/png": "[encoded data removed]",
      "text/plain": [
       "<Figure size 432x288 with 1 Axes>"
      ]
     },
     "metadata": {
      "needs_background": "light"
     },
     "output_type": "display_data"
    }
   ],
   "source": [
    "x = Series([24.4, 27.6, 27.8, 27.9, 28.5, 30.1, 30.3, 31.7, 32.2, 32.8, 33.3, 33.5, 34.1, 34.6, 35.8, 35.9, 36.8, 37.1, 39.2, 39.7])\n",
    "\n",
    "probplot(x, plot=plt)"
   ]
  },
  {
   "cell_type": "code",
   "execution_count": 4,
   "metadata": {},
   "outputs": [
    {
     "data": {
      "text/plain": [
       "0.02275013194817921"
      ]
     },
     "execution_count": 4,
     "metadata": {},
     "output_type": "execute_result"
    }
   ],
   "source": [
    "from scipy.stats import norm, uniform\n",
    "\n",
    "#1-norm.cdf(x=0.9, loc=0, scale=0.45)\n",
    "1-norm.cdf(2)"
   ]
  },
  {
   "cell_type": "code",
   "execution_count": 14,
   "metadata": {},
   "outputs": [
    {
     "name": "stdout",
     "output_type": "stream",
     "text": [
      "3.14724\n"
     ]
    }
   ],
   "source": [
    "\"\"\"\n",
    "import numpy as np\n",
    "from scipy.stats import uniform\n",
    "n = 10000\n",
    "x = uniform.rvs(size=n, loc=-1, scale=2)\n",
    "y = uniform.rvs(size=n, loc=-1, scale=2)\n",
    "\n",
    "n = 10000\n",
    "x = uniform.rvs(size=n, loc=-1, scale=2)\n",
    "y = uniform.rvs(size=n, loc=-1, scale=2)\n",
    "p_circle = np.sum(np.sqrt(x*x+y*y)<1)\n",
    "print(p_circle)\n",
    "\"\"\"\n",
    "n = 100000\n",
    "x = uniform.rvs(size=n, loc=-1, scale=2)\n",
    "y = uniform.rvs(size=n, loc=-1, scale=2)\n",
    "import numpy as np\n",
    "p_circle = np.sum(np.sqrt(x*x+y*y)<1)\n",
    "print(4*p_circle/n)\n"
   ]
  },
  {
   "cell_type": "code",
   "execution_count": 6,
   "metadata": {
    "pycharm": {
     "is_executing": false
    }
   },
   "outputs": [
    {
     "data": {
      "text/plain": "0.4772498680518208"
     },
     "metadata": {},
     "output_type": "execute_result",
     "execution_count": 6
    }
   ],
   "source": [
    "from scipy.stats import norm\n",
    "norm.cdf(0)\n",
    "norm.cdf(0)-norm.cdf(-2)\n"
   ]
  },
  {
   "cell_type": "code",
   "execution_count": null,
   "metadata": {},
   "outputs": [],
   "source": []
  }
 ],
 "metadata": {
  "kernelspec": {
   "display_name": "Python 3",
   "language": "python",
   "name": "python3"
  },
  "language_info": {
   "codemirror_mode": {
    "name": "ipython",
    "version": 3
   },
   "file_extension": ".py",
   "mimetype": "text/x-python",
   "name": "python",
   "nbconvert_exporter": "python",
   "pygments_lexer": "ipython3",
   "version": "3.7.3"
  },
  "pycharm": {
   "stem_cell": {
    "cell_type": "raw",
    "source": [],
    "metadata": {
     "collapsed": false
    }
   }
  }
 },
 "nbformat": 4,
 "nbformat_minor": 2
}