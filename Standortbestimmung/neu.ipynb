{
 "cells": [
  {
   "cell_type": "code",
   "execution_count": null,
   "metadata": {
    "collapsed": true
   },
   "outputs": [],
   "source": []
  },
  {
   "cell_type": "code",
   "execution_count": 3,
   "outputs": [],
   "source": [
    "import numpy as np\n",
    "import pandas as pd\n",
    "from pandas import Series, DataFrame\n",
    "from scipy.stats import norm, t, expon\n",
    "import scipy.stats as st"
   ],
   "metadata": {
    "collapsed": false,
    "pycharm": {
     "name": "#%%\n",
     "is_executing": false
    }
   }
  },
  {
   "cell_type": "markdown",
   "source": [
    "Die Grundlagen der Allgemeinen Relativitätstheorie (ART) hatte Albert Einstein am 25. November 1915 der Preussischen Akademie der Wissenschaften vorgetragen.\n",
    "\n",
    "Eine Vorhersage der ART besagt, dass Lichtstrahlen von Sternen, die sich hinter der Sonne befinden und gerade am Sonnenrand vorbei auf die Erde treffen, eine Winkelablenkung aufgrund der Raumkrümmung erfahren. Aus dieser Winkelablenkung lässt sich dann der Raumkrümmungsparameter γ bestimmen. In der Newton’schen Physik, wo der Raum nicht gekrümmt ist, hat γ den Wert 0. In der ART hat γ den Wert 1. Im Jahre 1975 wurde an 9 Tagen im National Radio Astronomy Observatory (NRAO) in Green Bank aus der Lichtablenkung der Wert von γ ermittelt. Die Werte dieser Messungen finden Sie in der Datei gamma.txt auf Ilias.\n",
    "\n",
    "Geben Sie den relativen Fehler für den Wert von γ der 1975 erhobenen Messreihe an. Beachten Sie die Anzahl signifikanter Stellen und lassen Sie bei der Eingabe das Prozentzeichen weg."
   ],
   "metadata": {
    "collapsed": false
   }
  },
  {
   "cell_type": "code",
   "execution_count": 8,
   "outputs": [
    {
     "data": {
      "text/plain": "0    1.000\n1    0.960\n2    1.020\n3    1.000\n4    1.002\nName: gamma, dtype: float64"
     },
     "metadata": {},
     "output_type": "execute_result",
     "execution_count": 8
    }
   ],
   "source": [
    "gamma = pd.read_csv(\"gamma.txt\", sep=\" \")\n",
    "gamma= gamma[\"gamma\"]\n",
    "gamma.head()"
   ],
   "metadata": {
    "collapsed": false,
    "pycharm": {
     "name": "#%%\n",
     "is_executing": false
    }
   }
  },
  {
   "cell_type": "code",
   "execution_count": 10,
   "outputs": [
    {
     "name": "stdout",
     "text": [
      "0.9893333333333333\n0.02929163703175362\n9\nRelativer Fehler 0.9869149943313215\n"
     ],
     "output_type": "stream"
    }
   ],
   "source": [
    "print(gamma.mean())\n",
    "print(gamma.std())\n",
    "print(len(gamma))\n",
    "standardfehler = gamma.std()/np.sqrt(len(gamma))\n",
    "print(f'Relativer Fehler {standardfehler/gamma.mean()*100}')"
   ],
   "metadata": {
    "collapsed": false,
    "pycharm": {
     "name": "#%%\n",
     "is_executing": false
    }
   }
  },
  {
   "cell_type": "markdown",
   "source": [
    "Nach einer Schamanen-Zeremonie mit Ayahuasca sind Sie in einem Anflug von Wahnsinn der festen Ueberzeugung, dass Sie die Wiedergeburt von Isaac Newton sind. Als erstes wollen Sie die ART widerlegen, und zwar zugunsten Ihrer Theorie mit γ=0. Wie lautet die Nullhypothese, wie die Alternativhypothese in Bezug auf den Wert des Raumkrümmungsparameters γ?\n",
    "\n",
    "Führen Sie einen statistischen t-Test mit Hilfe des 1975 erhobenen Datensatzes durch. Geben Sie den p-Wert des Tests an, und zwar mit 4 Nachkommastellen."
   ],
   "metadata": {
    "collapsed": false
   }
  },
  {
   "cell_type": "markdown",
   "source": [
    "nullhyptohese =  gamme = 1\n",
    "alternativhypothese = gamme kleiner als 1"
   ],
   "metadata": {
    "collapsed": false
   }
  },
  {
   "cell_type": "code",
   "execution_count": 15,
   "outputs": [
    {
     "name": "stdout",
     "text": [
      "0.15321670790410438\n"
     ],
     "output_type": "stream"
    },
    {
     "data": {
      "text/plain": "0.15321670790410438"
     },
     "metadata": {},
     "output_type": "execute_result",
     "execution_count": 15
    }
   ],
   "source": [
    "p_wert = t.cdf(x=gamma.mean(), loc=1, scale=gamma.std()/np.sqrt(gamma.size), df=gamma.size-1)\n",
    "print(p_wert)\n",
    "st.ttest_1samp(gamma, popmean=1)[1]/2"
   ],
   "metadata": {
    "collapsed": false,
    "pycharm": {
     "name": "#%%\n",
     "is_executing": false
    }
   }
  },
  {
   "cell_type": "markdown",
   "source": [
    "Geben Sie aufgrund der in der Datei gamma.txt enthaltenen Messwerte die obere Intervallgrenze des einseitigen 96%-Vertrauensintervalls für den wahren Wert des Parameters γ an. (Mit 5 Nachkommastellen)"
   ],
   "metadata": {
    "collapsed": false
   }
  },
  {
   "cell_type": "code",
   "execution_count": 25,
   "outputs": [
    {
     "name": "stdout",
     "text": [
      "0.9818435979472571\n"
     ],
     "output_type": "stream"
    },
    {
     "data": {
      "text/plain": "1.0074897353860763"
     },
     "metadata": {},
     "output_type": "execute_result",
     "execution_count": 25
    }
   ],
   "source": [
    "loc = gamma.mean()\n",
    "scale= gamma.std()\n",
    "# FALSCH - print(st.t.interval(alpha=0.95, df=gamma.size, scale=scale, loc=loc))\n",
    "\n",
    "# 5% quantil\n",
    "print(t.ppf(q=0.05, loc=1, scale=gamma.std()/np.sqrt(gamma.size),df=gamma.size-1))\n",
    "\n",
    "gamma.mean() + t.ppf(0.95, df=gamma.size-1)*gamma.std()/np.sqrt(gamma.size)"
   ],
   "metadata": {
    "collapsed": false,
    "pycharm": {
     "name": "#%%\n",
     "is_executing": false
    }
   }
  },
  {
   "cell_type": "code",
   "execution_count": 26,
   "outputs": [
    {
     "data": {
      "text/plain": "(0.9711769312805903, 1.0074897353860763)"
     },
     "metadata": {},
     "output_type": "execute_result",
     "execution_count": 26
    }
   ],
   "source": [
    "t.interval(alpha=0.9, df=gamma.size-1, loc=gamma.mean(), scale=gamma.std()/np.sqrt(gamma.size))"
   ],
   "metadata": {
    "collapsed": false,
    "pycharm": {
     "name": "#%%\n",
     "is_executing": false
    }
   }
  },
  {
   "cell_type": "code",
   "execution_count": null,
   "outputs": [],
   "source": [
    "schokolade = pd.read_csv(\"Schokolade_Nobelpreis.txt\", sep=\" \")\n",
    "schokolade.corr()"
   ],
   "metadata": {
    "collapsed": false,
    "pycharm": {
     "name": "#%%\n"
    }
   }
  },
  {
   "cell_type": "code",
   "execution_count": null,
   "outputs": [],
   "source": [
    "\n",
    "\n",
    "\n"
   ],
   "metadata": {
    "collapsed": false,
    "pycharm": {
     "name": "#%%\n"
    }
   }
  }
 ],
 "metadata": {
  "kernelspec": {
   "display_name": "Python 3",
   "language": "python",
   "name": "python3"
  },
  "language_info": {
   "codemirror_mode": {
    "name": "ipython",
    "version": 2
   },
   "file_extension": ".py",
   "mimetype": "text/x-python",
   "name": "python",
   "nbconvert_exporter": "python",
   "pygments_lexer": "ipython2",
   "version": "2.7.6"
  },
  "pycharm": {
   "stem_cell": {
    "cell_type": "raw",
    "source": [],
    "metadata": {
     "collapsed": false
    }
   }
  }
 },
 "nbformat": 4,
 "nbformat_minor": 0
}