{
 "cells": [
  {
   "cell_type": "code",
   "execution_count": 1,
   "metadata": {},
   "outputs": [],
   "source": [
    "import matplotlib.pyplot as plt\n",
    "import scipy.stats as st\n",
    "import seaborn as sns\n",
    "import pandas as pd\n",
    "from scipy.stats import norm, uniform, expon\n",
    "from scipy.integrate import quad\n",
    "from sympy.solvers import solve\n",
    "from sympy import Symbol\n",
    "import numpy as np\n",
    "from pandas import Series, DataFrame"
   ]
  },
  {
   "cell_type": "code",
   "execution_count": 17,
   "metadata": {
    "pycharm": {
     "name": "#%%\n"
    }
   },
   "outputs": [
    {
     "name": "stdout",
     "output_type": "stream",
     "text": [
      "80.02076923076923\n",
      "0.023965787580611863\n"
     ]
    }
   ],
   "source": [
    "methodeA = Series([79.98, 80.04, 80.02, 80.04, 80.03, 80.03, 80.04,\n",
    "79.97, 80.05, 80.03, 80.02, 80.00, 80.02])\n",
    "print(methodeA.mean())\n",
    "print(methodeA.std())"
   ]
  },
  {
   "cell_type": "code",
   "execution_count": 18,
   "metadata": {},
   "outputs": [
    {
     "name": "stdout",
     "output_type": "stream",
     "text": [
      "79.99333333333333\n",
      "0.028751811537128993\n"
     ]
    }
   ],
   "source": [
    "from scipy.stats import norm\n",
    "np.random.seed(1)\n",
    "methodeA_sim1 = Series(np.round(norm.rvs(size=6, loc=80, scale=0.02), 2))\n",
    "methodeA_sim1\n",
    "print(methodeA_sim1.mean())\n",
    "print(methodeA_sim1.std())"
   ]
  },
  {
   "cell_type": "code",
   "execution_count": 19,
   "metadata": {},
   "outputs": [
    {
     "name": "stdout",
     "output_type": "stream",
     "text": [
      "Mittelwert: 80.01\n",
      "Standardabw.: 0.027\n",
      "\n",
      "Mittelwert: 80.007\n",
      "Standardabw.: 0.02\n",
      "\n",
      "Mittelwert: 79.992\n",
      "Standardabw.: 0.028\n",
      "\n",
      "Mittelwert: 79.995\n",
      "Standardabw.: 0.016\n",
      "\n",
      "Mittelwert: 79.992\n",
      "Standardabw.: 0.013\n",
      "\n"
     ]
    }
   ],
   "source": [
    "np.random.seed(17)\n",
    "for i in range(5):\n",
    "    methodeA_sim1 = Series(np.round(norm.rvs(size=6, loc=80, scale=0.02), 2))\n",
    "    print(\"Mittelwert:\", np.round(methodeA_sim1.mean(), 3))\n",
    "    print(\"Standardabw.:\", np.round(methodeA_sim1.std(), 3))\n",
    "    print()"
   ]
  },
  {
   "cell_type": "code",
   "execution_count": 21,
   "metadata": {},
   "outputs": [
    {
     "name": "stdout",
     "output_type": "stream",
     "text": [
      "80.04\n",
      "0.019999999999998862\n"
     ]
    }
   ],
   "source": [
    "np.random.seed(463137)\n",
    "methodeA_sim2 = Series(np.round(norm.rvs(size=6, loc=80, scale=0.02), 2))\n",
    "methodeA_sim2\n",
    "print(methodeA_sim2.mean())\n",
    "print(methodeA_sim2.std())"
   ]
  },
  {
   "cell_type": "code",
   "execution_count": 22,
   "metadata": {},
   "outputs": [
    {
     "name": "stdout",
     "output_type": "stream",
     "text": [
      "79.99307692307691\n",
      "0.023588350014576355\n"
     ]
    }
   ],
   "source": [
    "np.random.seed(647)\n",
    "methodeA_sim3 = Series(np.round(norm.rvs(size=13, loc=80, scale= 0.02), 2))\n",
    "methodeA_sim3\n",
    "print(methodeA_sim3.mean())\n",
    "print(methodeA_sim3.std())"
   ]
  },
  {
   "cell_type": "code",
   "execution_count": 23,
   "metadata": {},
   "outputs": [
    {
     "data": {
      "text/plain": [
       "8.539905470989153e-06"
      ]
     },
     "execution_count": 23,
     "metadata": {},
     "output_type": "execute_result"
    }
   ],
   "source": [
    "norm.cdf(x=499.57, loc=500, scale=1/np.sqrt(100))"
   ]
  },
  {
   "cell_type": "code",
   "execution_count": 26,
   "metadata": {},
   "outputs": [
    {
     "data": {
      "text/plain": [
       "11.576543872967077"
      ]
     },
     "execution_count": 26,
     "metadata": {},
     "output_type": "execute_result"
    }
   ],
   "source": [
    "norm.cdf(x=171.54, loc=180, scale=10/np.sqrt(2))*100"
   ]
  },
  {
   "cell_type": "code",
   "execution_count": null,
   "metadata": {},
   "outputs": [],
   "source": []
  }
 ],
 "metadata": {
  "kernelspec": {
   "display_name": "Python 3",
   "language": "python",
   "name": "python3"
  },
  "language_info": {
   "codemirror_mode": {
    "name": "ipython",
    "version": 3
   },
   "file_extension": ".py",
   "mimetype": "text/x-python",
   "name": "python",
   "nbconvert_exporter": "python",
   "pygments_lexer": "ipython3",
   "version": "3.7.3"
  },
  "pycharm": {
   "stem_cell": {
    "cell_type": "raw",
    "metadata": {
     "collapsed": false
    },
    "source": []
   }
  }
 },
 "nbformat": 4,
 "nbformat_minor": 1
}
