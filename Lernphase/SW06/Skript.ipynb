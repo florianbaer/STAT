{
 "cells": [
  {
   "cell_type": "code",
   "execution_count": 33,
   "metadata": {},
   "outputs": [],
   "source": [
    "import matplotlib.pyplot as plt\n",
    "import scipy.stats as st\n",
    "import seaborn as sns\n",
    "import pandas as pd\n",
    "from scipy.stats import norm, uniform, expon, t\n",
    "from scipy.integrate import quad\n",
    "from sympy.solvers import solve\n",
    "from sympy import Symbol\n",
    "import numpy as np\n",
    "from pandas import Series, DataFrame"
   ]
  },
  {
   "cell_type": "code",
   "execution_count": 17,
   "metadata": {
    "pycharm": {
     "name": "#%%\n"
    }
   },
   "outputs": [
    {
     "name": "stdout",
     "output_type": "stream",
     "text": [
      "80.02076923076923\n",
      "0.023965787580611863\n"
     ]
    }
   ],
   "source": [
    "methodeA = Series([79.98, 80.04, 80.02, 80.04, 80.03, 80.03, 80.04,\n",
    "79.97, 80.05, 80.03, 80.02, 80.00, 80.02])\n",
    "print(methodeA.mean())\n",
    "print(methodeA.std())"
   ]
  },
  {
   "cell_type": "code",
   "execution_count": 18,
   "metadata": {},
   "outputs": [
    {
     "name": "stdout",
     "output_type": "stream",
     "text": [
      "79.99333333333333\n",
      "0.028751811537128993\n"
     ]
    }
   ],
   "source": [
    "from scipy.stats import norm\n",
    "np.random.seed(1)\n",
    "methodeA_sim1 = Series(np.round(norm.rvs(size=6, loc=80, scale=0.02), 2))\n",
    "methodeA_sim1\n",
    "print(methodeA_sim1.mean())\n",
    "print(methodeA_sim1.std())"
   ]
  },
  {
   "cell_type": "code",
   "execution_count": 19,
   "metadata": {},
   "outputs": [
    {
     "name": "stdout",
     "output_type": "stream",
     "text": [
      "Mittelwert: 80.01\n",
      "Standardabw.: 0.027\n",
      "\n",
      "Mittelwert: 80.007\n",
      "Standardabw.: 0.02\n",
      "\n",
      "Mittelwert: 79.992\n",
      "Standardabw.: 0.028\n",
      "\n",
      "Mittelwert: 79.995\n",
      "Standardabw.: 0.016\n",
      "\n",
      "Mittelwert: 79.992\n",
      "Standardabw.: 0.013\n",
      "\n"
     ]
    }
   ],
   "source": [
    "np.random.seed(17)\n",
    "for i in range(5):\n",
    "    methodeA_sim1 = Series(np.round(norm.rvs(size=6, loc=80, scale=0.02), 2))\n",
    "    print(\"Mittelwert:\", np.round(methodeA_sim1.mean(), 3))\n",
    "    print(\"Standardabw.:\", np.round(methodeA_sim1.std(), 3))\n",
    "    print()"
   ]
  },
  {
   "cell_type": "code",
   "execution_count": 21,
   "metadata": {},
   "outputs": [
    {
     "name": "stdout",
     "output_type": "stream",
     "text": [
      "80.04\n",
      "0.019999999999998862\n"
     ]
    }
   ],
   "source": [
    "np.random.seed(463137)\n",
    "methodeA_sim2 = Series(np.round(norm.rvs(size=6, loc=80, scale=0.02), 2))\n",
    "methodeA_sim2\n",
    "print(methodeA_sim2.mean())\n",
    "print(methodeA_sim2.std())"
   ]
  },
  {
   "cell_type": "code",
   "execution_count": 22,
   "metadata": {},
   "outputs": [
    {
     "name": "stdout",
     "output_type": "stream",
     "text": [
      "79.99307692307691\n",
      "0.023588350014576355\n"
     ]
    }
   ],
   "source": [
    "np.random.seed(647)\n",
    "methodeA_sim3 = Series(np.round(norm.rvs(size=13, loc=80, scale= 0.02), 2))\n",
    "methodeA_sim3\n",
    "print(methodeA_sim3.mean())\n",
    "print(methodeA_sim3.std())"
   ]
  },
  {
   "cell_type": "code",
   "execution_count": 23,
   "metadata": {},
   "outputs": [
    {
     "data": {
      "text/plain": [
       "8.539905470989153e-06"
      ]
     },
     "execution_count": 23,
     "metadata": {},
     "output_type": "execute_result"
    }
   ],
   "source": [
    "norm.cdf(x=499.57, loc=500, scale=1/np.sqrt(100))"
   ]
  },
  {
   "cell_type": "code",
   "execution_count": 26,
   "metadata": {},
   "outputs": [
    {
     "data": {
      "text/plain": [
       "11.576543872967077"
      ]
     },
     "execution_count": 26,
     "metadata": {},
     "output_type": "execute_result"
    }
   ],
   "source": [
    "norm.cdf(x=171.54, loc=180, scale=10/np.sqrt(2))*100"
   ]
  },
  {
   "cell_type": "code",
   "execution_count": 28,
   "metadata": {},
   "outputs": [
    {
     "name": "stdout",
     "output_type": "stream",
     "text": [
      "0.022750131948200636\n",
      "[79.99456404 80.00543596]\n",
      "(79.9945640379659, 80.0054359620341)\n"
     ]
    }
   ],
   "source": [
    "print(1-norm.cdf(x=80.02, loc=80, scale=0.01))\n",
    "print(norm.ppf(q=[0.025, 0.975], loc=80, scale=0.01/np.sqrt(13)))\n",
    "print(norm.interval(alpha=0.95, loc=80, scale=0.01/np.sqrt(13)))"
   ]
  },
  {
   "cell_type": "code",
   "execution_count": 29,
   "metadata": {},
   "outputs": [
    {
     "data": {
      "text/plain": [
       "-1.9599639845400545"
      ]
     },
     "execution_count": 29,
     "metadata": {},
     "output_type": "execute_result"
    }
   ],
   "source": [
    "norm.ppf(q=0.025)"
   ]
  },
  {
   "cell_type": "code",
   "execution_count": 32,
   "metadata": {},
   "outputs": [
    {
     "name": "stdout",
     "output_type": "stream",
     "text": [
      "5.215000000000001\n",
      "1.8838021462764578\n"
     ]
    }
   ],
   "source": [
    "series = Series([5.9, 3.4, 6.6, 6.3, 4.2, 2.0, 6.0, 4.8, 4.2, 2.1, 8.7, 4.4, 5.1, 2.7, 8.5, 5.8, 4.9, 5.3, 5.5, 7.9])\n",
    "print(series.mean())\n",
    "print(series.std())"
   ]
  },
  {
   "cell_type": "code",
   "execution_count": 37,
   "metadata": {},
   "outputs": [
    {
     "data": {
      "text/plain": [
       "0.6921780567888249"
      ]
     },
     "execution_count": 37,
     "metadata": {},
     "output_type": "execute_result"
    }
   ],
   "source": [
    "t.cdf(x=series.mean(), df=series.size-1, loc=5, scale=series.std()/np.sqrt(series.size))"
   ]
  },
  {
   "cell_type": "code",
   "execution_count": 38,
   "metadata": {},
   "outputs": [
    {
     "name": "stdout",
     "output_type": "stream",
     "text": [
      "Help on method cdf in module scipy.stats._distn_infrastructure:\n",
      "\n",
      "cdf(x, *args, **kwds) method of scipy.stats._continuous_distns.norm_gen instance\n",
      "    Cumulative distribution function of the given RV.\n",
      "    \n",
      "    Parameters\n",
      "    ----------\n",
      "    x : array_like\n",
      "        quantiles\n",
      "    arg1, arg2, arg3,... : array_like\n",
      "        The shape parameter(s) for the distribution (see docstring of the\n",
      "        instance object for more information)\n",
      "    loc : array_like, optional\n",
      "        location parameter (default=0)\n",
      "    scale : array_like, optional\n",
      "        scale parameter (default=1)\n",
      "    \n",
      "    Returns\n",
      "    -------\n",
      "    cdf : ndarray\n",
      "        Cumulative distribution function evaluated at `x`\n",
      "\n"
     ]
    }
   ],
   "source": [
    "help(norm.cdf)"
   ]
  },
  {
   "cell_type": "code",
   "execution_count": null,
   "metadata": {},
   "outputs": [],
   "source": []
  }
 ],
 "metadata": {
  "kernelspec": {
   "display_name": "Python 3",
   "language": "python",
   "name": "python3"
  },
  "language_info": {
   "codemirror_mode": {
    "name": "ipython",
    "version": 3
   },
   "file_extension": ".py",
   "mimetype": "text/x-python",
   "name": "python",
   "nbconvert_exporter": "python",
   "pygments_lexer": "ipython3",
   "version": "3.7.3"
  },
  "pycharm": {
   "stem_cell": {
    "cell_type": "raw",
    "metadata": {
     "collapsed": false
    },
    "source": []
   }
  }
 },
 "nbformat": 4,
 "nbformat_minor": 1
}
