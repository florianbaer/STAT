{
 "cells": [
  {
   "cell_type": "code",
   "execution_count": 2,
   "metadata": {},
   "outputs": [],
   "source": [
    "import matplotlib.pyplot as plt\n",
    "import scipy.stats as st\n",
    "import seaborn as sns\n",
    "import pandas as pd\n",
    "from scipy.stats import norm, uniform, expon, t, probplot\n",
    "import scipy.stats as st\n",
    "from scipy.integrate import quad\n",
    "from sympy.solvers import solve\n",
    "from sympy import Symbol\n",
    "import numpy as np\n",
    "from pandas import Series, DataFrame"
   ]
  },
  {
   "cell_type": "code",
   "execution_count": 2,
   "metadata": {
    "pycharm": {
     "name": "#%%\n"
    }
   },
   "outputs": [
    {
     "name": "stdout",
     "output_type": "stream",
     "text": [
      "Arithmetisches Mittel von Messreihe Methode B: 79.97874999999999\n",
      "Bootstrap Sample :  [80.03 79.97 79.97 80.02 79.97 79.94 79.97 80.03]\n",
      "Arithmetisches Mittel von Bootstrap Sample: 79.9875\n"
     ]
    }
   ],
   "source": [
    "np.random.seed(1)\n",
    "methode_B = np.array([80.02, 79.94, 79.98, 79.97, 79.97, 80.03, 79.95,\n",
    "79.97])\n",
    "# Arithmetisches Mittel der Messreihe methode_B\n",
    "print('Arithmetisches Mittel von Messreihe Methode B:', methode_B.mean())\n",
    "# Länge n der Messreihe methode_B\n",
    "n = methode_B.size\n",
    "# Anzahl Bootstrap samples\n",
    "nboot = 1\n",
    "# Bootstrap Sample wird aus Messreihe durch zufälliges\n",
    "# Ziehen mit Zurücklegen generiert\n",
    "bootstrap_sample = np.random.choice(methode_B, n*nboot, replace=True)\n",
    "bootstrap_sample\n",
    "print('Bootstrap Sample : ' , bootstrap_sample)\n",
    "# Arithmetisches Mittel des Bootstrap Sample\n",
    "print('Arithmetisches Mittel von Bootstrap Sample:' , bootstrap_sample.mean())"
   ]
  },
  {
   "cell_type": "code",
   "execution_count": 3,
   "metadata": {},
   "outputs": [
    {
     "name": "stdout",
     "output_type": "stream",
     "text": [
      "Bootstrap Sample :  [79.97 80.02 80.02 79.94 79.97 79.97 80.03 79.97]\n"
     ]
    }
   ],
   "source": [
    "methode_B = np.array([80.02, 79.94, 79.98, 79.97, 79.97, 80.03, 79.95,\n",
    "79.97])\n",
    "n = methode_B.size\n",
    "nboot = 1\n",
    "bootstrap_sample = np.random.choice(methode_B, n*nboot, replace=True)\n",
    "bootstrap_sample\n",
    "print('Bootstrap Sample : ' , bootstrap_sample)"
   ]
  },
  {
   "cell_type": "code",
   "execution_count": 4,
   "metadata": {},
   "outputs": [
    {
     "name": "stdout",
     "output_type": "stream",
     "text": [
      "Bootstrap Sample :  79.98625\n"
     ]
    }
   ],
   "source": [
    "print('Bootstrap Sample : ' , bootstrap_sample.mean())"
   ]
  },
  {
   "cell_type": "code",
   "execution_count": 5,
   "metadata": {},
   "outputs": [
    {
     "name": "stdout",
     "output_type": "stream",
     "text": [
      "[79.96375 79.965   79.96625 79.96875 79.97125 79.97375 79.97625 79.9775\n",
      " 79.97875 79.98    79.98125 79.98125 79.9825  79.9825  79.98375 79.985\n",
      " 79.985   79.9875  79.99    79.99375]\n"
     ]
    }
   ],
   "source": [
    "np.random.seed(1)\n",
    "methode_B = np.array([80.02, 79.94, 79.98, 79.97, 79.97, 80.03,79.95, 79.97])\n",
    "n = methode_B.size\n",
    "nboot = 20\n",
    "bootstrap_sample = np.random.choice(methode_B, n*nboot, replace=True)\n",
    "bootstrap_sample_array = np.reshape(bootstrap_sample, (n, nboot))\n",
    "bootstrap_sample_array\n",
    "xbarstar = bootstrap_sample_array.mean(axis=0)\n",
    "np.sort(xbarstar)\n",
    "print(np.sort(xbarstar))"
   ]
  },
  {
   "cell_type": "code",
   "execution_count": 6,
   "metadata": {},
   "outputs": [
    {
     "name": "stdout",
     "output_type": "stream",
     "text": [
      "Vertrauensintervall:  [79.96434375 79.99196875]\n"
     ]
    }
   ],
   "source": [
    "xbarstar = bootstrap_sample_array.mean(axis=0)\n",
    "d = np.percentile(xbarstar, q=[2.5, 97.5])\n",
    "print('Vertrauensintervall: ',d)"
   ]
  },
  {
   "cell_type": "code",
   "execution_count": 16,
   "metadata": {},
   "outputs": [
    {
     "name": "stdout",
     "output_type": "stream",
     "text": [
      "Abweichungen:  [-1.87500000e-02 -1.50000000e-02 -8.75000000e-03 -6.25000000e-03\n",
      " -6.25000000e-03 -5.00000000e-03 -5.00000000e-03 -2.50000000e-03\n",
      " -1.25000000e-03 -1.25000000e-03  1.42108547e-14  1.42108547e-14\n",
      "  1.42108547e-14  2.50000000e-03  2.50000000e-03  5.00000000e-03\n",
      "  6.25000000e-03  1.00000000e-02  1.25000000e-02  1.37500000e-02]\n"
     ]
    }
   ],
   "source": [
    "tempdata = np.random.choice(methode_B, n*nboot, replace=True)\n",
    "bootstrap_sample_array = np.reshape(tempdata, (n, nboot))\n",
    "xbarstar = bootstrap_sample_array.mean(axis=0)\n",
    "xbar = methode_B.mean()\n",
    "delta = np.sort(xbarstar - xbar)\n",
    "print('Abweichungen: ',delta)"
   ]
  },
  {
   "cell_type": "code",
   "execution_count": 22,
   "metadata": {},
   "outputs": [
    {
     "name": "stdout",
     "output_type": "stream",
     "text": [
      "0.025 und 0.975 Quantilen der Abweichungen:  [-0.01446875  0.01578125]\n"
     ]
    }
   ],
   "source": [
    "tempdata = np.random.choice(methode_B, n*nboot, replace=True)\n",
    "bootstrap_sample_array = np.reshape(tempdata, (n, nboot))\n",
    "xbarstar = bootstrap_sample_array.mean(axis=0)\n",
    "delta = np.sort(xbarstar - xbar)\n",
    "d = np.percentile(delta, q=[2.5, 97.5])\n",
    "print('0.025 und 0.975 Quantilen der Abweichungen: ',d)"
   ]
  },
  {
   "cell_type": "code",
   "execution_count": 23,
   "metadata": {},
   "outputs": [
    {
     "name": "stdout",
     "output_type": "stream",
     "text": [
      "Vertrauensintervall:  [79.96    79.99875]\n"
     ]
    }
   ],
   "source": [
    "np.random.seed(1)\n",
    "methode_B = np.array([80.02, 79.94, 79.98, 79.97, 79.97, 80.03,\n",
    "79.95, 79.97])\n",
    "n = methode_B.size\n",
    "nboot = 10000\n",
    "bootstrap_sample = np.random.choice(methode_B, n*nboot, replace=True)\n",
    "bootstrap_sample_array = np.reshape(bootstrap_sample, (n, nboot))\n",
    "bootstrap_sample_array\n",
    "xbarstar = bootstrap_sample_array.mean(axis=0)\n",
    "d = np.percentile(xbarstar, q=[2.5, 97.5])\n",
    "print('Vertrauensintervall: ',d)"
   ]
  },
  {
   "cell_type": "code",
   "execution_count": 35,
   "metadata": {},
   "outputs": [
    {
     "data": {
      "text/plain": [
       "((array([-3.81060943, -3.58545756, -3.46184782, ...,  3.46184782,\n",
       "          3.58545756,  3.81060943]),\n",
       "  array([79.9475 , 79.95   , 79.95   , ..., 80.01375, 80.01875, 80.02   ])),\n",
       " (0.01025847217684964, 79.9788175, 0.9980233139543482))"
      ]
     },
     "execution_count": 35,
     "metadata": {},
     "output_type": "execute_result"
    },
    {
     "data": {
      "image/png": "[encoded data removed]",
      "text/plain": [
       "<Figure size 432x288 with 2 Axes>"
      ]
     },
     "metadata": {
      "needs_background": "light"
     },
     "output_type": "display_data"
    }
   ],
   "source": [
    "x = np.array([80.02, 79.94, 79.98, 79.97, 79.97, 80.03, 79.95, 79.97])\n",
    "n = x.size\n",
    "np.random.seed(1)\n",
    "xbar = x.mean()\n",
    "nboot = 10000\n",
    "tmpdata = np.random.choice(x, n*nboot, replace=True)\n",
    "bootstrapsample = np.reshape(tmpdata, (n, nboot))\n",
    "xbarstar = Series(bootstrapsample.mean(axis=0))\n",
    "plt.subplot(121)\n",
    "xbarstar.plot(kind=\"hist\", edgecolor=\"black\")\n",
    "plt.subplot(122)\n",
    "probplot(xbarstar, plot=plt)"
   ]
  },
  {
   "cell_type": "code",
   "execution_count": 37,
   "metadata": {},
   "outputs": [
    {
     "name": "stdout",
     "output_type": "stream",
     "text": [
      "Vertrauensintervall:  (79.95819874674378, 79.9993012532562)\n"
     ]
    }
   ],
   "source": [
    "n = x.size\n",
    "np.random.seed(1)\n",
    "standardabweichung_der_messdaten = x.mean()\n",
    "nboot = 10000\n",
    "tmpdata = np.random.choice(x, n*nboot, replace=True)\n",
    "bootstrapsample = np.reshape(tmpdata, (n, nboot))\n",
    "xbarstar = Series(bootstrapsample.mean(axis=0))\n",
    "d = xbar - 2*xbarstar.std() , xbar + 2*xbarstar.std()\n",
    "print('Vertrauensintervall: ',d)"
   ]
  },
  {
   "cell_type": "code",
   "execution_count": 38,
   "metadata": {},
   "outputs": [
    {
     "name": "stdout",
     "output_type": "stream",
     "text": [
      "Vertrauensintervall:  [39.59026732 41.39130025]\n"
     ]
    }
   ],
   "source": [
    "x = np.random.normal(loc=40,scale=5,size=100)\n",
    "n = x.size\n",
    "np.random.seed(4)\n",
    "xbar = x.mean()\n",
    "# Anzahl Bootstrap Stichproben\n",
    "nboot = 20\n",
    "# Erzeuge Bootstrap Stichproben\n",
    "bootstrap_samples = np.random.choice(x, n*nboot, replace=True)\n",
    "bootstrap_sample_array = np.reshape(bootstrap_samples, (n, nboot))\n",
    "# Arithmetisches Mittel für jede Bootstrap Stichprobe\n",
    "xbarstar = bootstrap_sample_array.mean(axis=0)\n",
    "# 2.5% und 97.5% Quantilen der Mittelwerte\n",
    "# der Bootstrap Samples\n",
    "ci = np.percentile(xbarstar, q=[2.5, 97.5])\n",
    "# Vertrauensintervalle\n",
    "print(\"Vertrauensintervall: \",ci)"
   ]
  },
  {
   "cell_type": "code",
   "execution_count": 39,
   "metadata": {},
   "outputs": [
    {
     "name": "stdout",
     "output_type": "stream",
     "text": [
      "(100, 100)\n"
     ]
    }
   ],
   "source": [
    "# Wir erzeugen 100'000 normalverteilte Zufallszahlen\n",
    "# mit Mittelwert 40 und Standardabweichung 5\n",
    "x = np.random.normal(loc=40, scale=5, size=10000)\n",
    "# Wir ordnen diese Zahlen in einem Array an, der aus 100 Zeilen\n",
    "# und 100 Spalten besteht\n",
    "measurement_array = np.reshape(x,(100,100))\n",
    "print(measurement_array.shape)"
   ]
  },
  {
   "cell_type": "code",
   "execution_count": 42,
   "metadata": {},
   "outputs": [
    {
     "name": "stdout",
     "output_type": "stream",
     "text": [
      "100\n",
      "94\n"
     ]
    }
   ],
   "source": [
    "print(measurement_array[1].size)\n",
    "# Anzahl Bootstrap Samples\n",
    "nboot = 1000\n",
    "# Länge von jeder Bootstrap Stichprobe\n",
    "n = 100\n",
    "# k zählt Anzahl Vertrauensintervalle, die das\n",
    "# wahre mu=40 nicht enthalten\n",
    "k=0\n",
    "# Wir iterieren über alle 100 Testreihen und bestimmen für jede\n",
    "# Testreihe ein Vertrauensintervall (mittels bootstrap)\n",
    "for i in range(0,100):\n",
    "    x = measurement_array[i]\n",
    "    # Arithmetisches Mittel pro Zeile im Array wird berechnet\n",
    "    xbar = x.mean()\n",
    "    # für die Zeile x wird nun ein Vertrauensintervall\n",
    "    # mittels Bootstrap konstruiert\n",
    "    bootstrap_samples = np.random.choice(x, n*nboot, replace=True)\n",
    "    bootstrap_sample_array = np.reshape(bootstrap_samples, (n, nboot))\n",
    "    xbarstar = bootstrap_sample_array.mean(axis=0)\n",
    "    d = np.percentile(xbarstar, q=[2.5, 97.5])\n",
    "    # Falls 40 im Vertrauensintervall für Zeile i NICHT enthalten ist\n",
    "    # wird k um 1 erhöht\n",
    "    if d[0]<= 40 <= d[1]:\n",
    "        k=k+1\n",
    "print(k)"
   ]
  },
  {
   "cell_type": "code",
   "execution_count": 49,
   "metadata": {},
   "outputs": [
    {
     "name": "stdout",
     "output_type": "stream",
     "text": [
      "(100, 100)\n"
     ]
    },
    {
     "data": {
      "image/png": "[encoded data removed]",
      "text/plain": [
       "<Figure size 432x288 with 1 Axes>"
      ]
     },
     "metadata": {
      "needs_background": "light"
     },
     "output_type": "display_data"
    }
   ],
   "source": [
    "#np.random.seed(8)\n",
    "# Wir generieren 10'000 normalverteilte Zufallszahlen\n",
    "# mit Mittelwert 40 und Standardabweichung 5\n",
    "x = np.random.normal(loc=40, scale=5, size=10000)\n",
    "# Wir ordnen die Zufallszahlen in einem array mit 100 Spalten\n",
    "# und 100 Zeilen an\n",
    "measurement_array = np.reshape(x,(100,100))\n",
    "print(measurement_array.shape)\n",
    "# Anzahl Bootstrap Samples\n",
    "nboot = 10000\n",
    "n = 100\n",
    "# Wir iterieren über die 100 Testreihen\n",
    "for i in range(0,100):\n",
    "    # wir lesen die i-te Zeile aus dem measurement_array heraus\n",
    "    y = measurement_array[i]\n",
    "    # Bestimmung des Vertrauensintervalls der i-ten Testreihe\n",
    "    tmpdata = np.random.choice(y, n*nboot, replace=True)\n",
    "    bootstrapsample = np.reshape(tmpdata, (n, nboot))\n",
    "    xbarstar = bootstrapsample.mean(axis=0)\n",
    "    ci = np.percentile(xbarstar, q=[2.5, 97.5])\n",
    "    plt.plot([i,i],[ci[0], ci[1]])\n",
    "    if (ci[0]<= 40 <= ci[1])==False:\n",
    "        plt.plot([i,i],[ci[0], ci[1]], c=\"black\",linewidth=3)\n",
    "        plt.plot([-5,105],[40,40])\n",
    "plt.show()"
   ]
  },
  {
   "cell_type": "code",
   "execution_count": null,
   "metadata": {},
   "outputs": [],
   "source": []
  },
  {
   "cell_type": "code",
   "execution_count": null,
   "metadata": {},
   "outputs": [],
   "source": []
  },
  {
   "cell_type": "code",
   "execution_count": null,
   "metadata": {},
   "outputs": [],
   "source": []
  }
 ],
 "metadata": {
  "kernelspec": {
   "display_name": "Python 3",
   "language": "python",
   "name": "python3"
  },
  "language_info": {
   "codemirror_mode": {
    "name": "ipython",
    "version": 3
   },
   "file_extension": ".py",
   "mimetype": "text/x-python",
   "name": "python",
   "nbconvert_exporter": "python",
   "pygments_lexer": "ipython3",
   "version": "3.7.3"
  },
  "pycharm": {
   "stem_cell": {
    "cell_type": "raw",
    "metadata": {
     "collapsed": false
    },
    "source": []
   }
  }
 },
 "nbformat": 4,
 "nbformat_minor": 1
}
