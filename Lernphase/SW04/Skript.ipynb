{
 "cells": [
  {
   "cell_type": "code",
   "execution_count": 3,
   "metadata": {},
   "outputs": [],
   "source": [
    "import matplotlib.pyplot as plt\n",
    "import scipy.stats as st\n",
    "import seaborn as sns\n",
    "import pandas as pd\n",
    "from scipy.stats import norm, uniform, expon\n",
    "from scipy.integrate import quad\n",
    "from sympy.solvers import solve\n",
    "from sympy import Symbol\n",
    "import numpy as np\n",
    "from pandas import Series, DataFrame"
   ]
  },
  {
   "cell_type": "code",
   "execution_count": 4,
   "metadata": {
    "pycharm": {
     "name": "#%%\n"
    }
   },
   "outputs": [
    {
     "data": {
      "text/plain": [
       "7.0"
      ]
     },
     "execution_count": 4,
     "metadata": {},
     "output_type": "execute_result"
    }
   ],
   "source": [
    "werte = np.array([0,10,11])\n",
    "ew = np.sum(werte*1/3)\n",
    "ew"
   ]
  },
  {
   "cell_type": "code",
   "execution_count": 5,
   "metadata": {},
   "outputs": [
    {
     "data": {
      "text/plain": [
       "24.666666666666664"
      ]
     },
     "execution_count": 5,
     "metadata": {},
     "output_type": "execute_result"
    }
   ],
   "source": [
    "var_X = np.sum((werte-ew)**2*1/3)\n",
    "var_X"
   ]
  },
  {
   "cell_type": "code",
   "execution_count": 6,
   "metadata": {},
   "outputs": [],
   "source": [
    "sd_X = np.sqrt(var_X)"
   ]
  },
  {
   "cell_type": "code",
   "execution_count": 13,
   "metadata": {},
   "outputs": [
    {
     "data": {
      "text/plain": [
       "array([ 0, 11, 10, 11, 11, 11, 10,  0, 10, 10])"
      ]
     },
     "execution_count": 13,
     "metadata": {},
     "output_type": "execute_result"
    }
   ],
   "source": [
    "sim = np.random.choice(werte, size=10, replace = True)\n",
    "sim"
   ]
  },
  {
   "cell_type": "code",
   "execution_count": 17,
   "metadata": {},
   "outputs": [
    {
     "data": {
      "text/plain": [
       "(array([3., 0., 0., 0., 0., 0., 0., 0., 0., 0., 5., 2.]),\n",
       " array([ 0,  1,  2,  3,  4,  5,  6,  7,  8,  9, 10, 11, 12]),\n",
       " <a list of 12 Patch objects>)"
      ]
     },
     "execution_count": 17,
     "metadata": {},
     "output_type": "execute_result"
    },
    {
     "data": {
      "image/png": "[encoded data removed]",
      "text/plain": [
       "<Figure size 432x288 with 1 Axes>"
      ]
     },
     "metadata": {
      "needs_background": "light"
     },
     "output_type": "display_data"
    }
   ],
   "source": [
    "# range: macht die Bins von 0 bis 12 mit Anstand 1\n",
    "# edgecolor: zeichnet die Balkenumrandungen ein mit\n",
    "# facecolor kann noch die Farbe der Balken veraendert\n",
    "# werden\n",
    "plt.hist(sim, bins = range(0, 13, 1), edgecolor = \"black\")"
   ]
  },
  {
   "cell_type": "code",
   "execution_count": 18,
   "metadata": {},
   "outputs": [
    {
     "data": {
      "image/png": "[encoded data removed]",
      "text/plain": [
       "<Figure size 432x288 with 4 Axes>"
      ]
     },
     "metadata": {
      "needs_background": "light"
     },
     "output_type": "display_data"
    }
   ],
   "source": [
    "# subplot: Macht 4 subplots mit 2 Reihen und 2 Spalten\n",
    "# i: der i-te subplot\n",
    "for i in range(1,5):\n",
    "    plt.subplot(2,2,i)\n",
    "    sim = np.random.choice(werte, size=10, replace = True)\n",
    "    plt.hist(sim, bins=range(0,13,1), edgecolor=\"black\")\n"
   ]
  },
  {
   "cell_type": "code",
   "execution_count": 21,
   "metadata": {},
   "outputs": [
    {
     "data": {
      "text/plain": [
       "array([ 5.5,  5.5,  5. , 10. ,  5.5, 10. ,  5. , 10.5, 10. ,  5.5])"
      ]
     },
     "execution_count": 21,
     "metadata": {},
     "output_type": "execute_result"
    }
   ],
   "source": [
    "sim_1 = np.random.choice(werte,size=10, replace = True)\n",
    "sim_1\n",
    "sim_2 = np.random.choice(werte,size=10, replace = True)\n",
    "sim_2\n",
    "sim_mean_2 = (sim_1+sim_2)/2\n",
    "sim_mean_2\n"
   ]
  },
  {
   "cell_type": "code",
   "execution_count": 22,
   "metadata": {},
   "outputs": [
    {
     "data": {
      "text/plain": [
       "(array([0., 0., 0., 0., 0., 0., 0., 0., 0., 0., 2., 4., 0., 0., 0., 0., 0.,\n",
       "        0., 0., 0., 3., 1., 0.]),\n",
       " array([ 0. ,  0.5,  1. ,  1.5,  2. ,  2.5,  3. ,  3.5,  4. ,  4.5,  5. ,\n",
       "         5.5,  6. ,  6.5,  7. ,  7.5,  8. ,  8.5,  9. ,  9.5, 10. , 10.5,\n",
       "        11. , 11.5]),\n",
       " <a list of 23 Patch objects>)"
      ]
     },
     "execution_count": 22,
     "metadata": {},
     "output_type": "execute_result"
    },
    {
     "data": {
      "image/png": "[encoded data removed]",
      "text/plain": [
       "<Figure size 432x288 with 1 Axes>"
      ]
     },
     "metadata": {
      "needs_background": "light"
     },
     "output_type": "display_data"
    }
   ],
   "source": [
    "# linspace: Spaltenbreiten 0.5 ueber das Intervall\n",
    "plt.hist(sim_mean_2, bins = np.linspace(0, 11.5, 24), edgecolor = \"black\")"
   ]
  },
  {
   "cell_type": "code",
   "execution_count": 28,
   "metadata": {},
   "outputs": [
    {
     "data": {
      "text/plain": [
       "array([ 7.        ,  7.33333333, 10.66666667, 10.33333333,  7.33333333,\n",
       "       11.        , 10.        , 10.66666667,  6.66666667,  3.33333333])"
      ]
     },
     "execution_count": 28,
     "metadata": {},
     "output_type": "execute_result"
    }
   ],
   "source": [
    "sim_1 = np.random.choice(werte,size=10, replace = True)\n",
    "sim_1\n",
    "sim_2 = np.random.choice(werte,size=10, replace = True)\n",
    "sim_2\n",
    "sim_3 = np.random.choice(werte,size=10, replace = True)\n",
    "sim_3\n",
    "sim_mean_3 = (sim_1+sim_2+sim_3)/3\n",
    "sim_mean_3"
   ]
  },
  {
   "cell_type": "code",
   "execution_count": 29,
   "metadata": {},
   "outputs": [
    {
     "data": {
      "text/plain": [
       "(array([0., 0., 0., 0., 0., 0., 0., 0., 0., 1., 0., 0., 0., 0., 0., 0., 0.,\n",
       "        0., 0., 1., 1., 2., 0., 0., 0., 0., 0., 0., 0., 1., 0., 3., 1., 0.]),\n",
       " array([ 0.        ,  0.33333333,  0.66666667,  1.        ,  1.33333333,\n",
       "         1.66666667,  2.        ,  2.33333333,  2.66666667,  3.        ,\n",
       "         3.33333333,  3.66666667,  4.        ,  4.33333333,  4.66666667,\n",
       "         5.        ,  5.33333333,  5.66666667,  6.        ,  6.33333333,\n",
       "         6.66666667,  7.        ,  7.33333333,  7.66666667,  8.        ,\n",
       "         8.33333333,  8.66666667,  9.        ,  9.33333333,  9.66666667,\n",
       "        10.        , 10.33333333, 10.66666667, 11.        , 11.33333333]),\n",
       " <a list of 34 Patch objects>)"
      ]
     },
     "execution_count": 29,
     "metadata": {},
     "output_type": "execute_result"
    },
    {
     "data": {
      "image/png": "[encoded data removed]",
      "text/plain": [
       "<Figure size 432x288 with 1 Axes>"
      ]
     },
     "metadata": {
      "needs_background": "light"
     },
     "output_type": "display_data"
    }
   ],
   "source": [
    "# linspace: Spaltenbreiten 1/3 ueber das Intervall\n",
    "plt.hist(sim_mean_3, bins = np.linspace(0, 11 + 1/3, 35),\n",
    "edgecolor = \"black\")"
   ]
  },
  {
   "cell_type": "code",
   "execution_count": 35,
   "metadata": {},
   "outputs": [
    {
     "data": {
      "image/png": "[encoded data removed]",
      "text/plain": [
       "<Figure size 432x288 with 4 Axes>"
      ]
     },
     "metadata": {
      "needs_background": "light"
     },
     "output_type": "display_data"
    }
   ],
   "source": [
    "for i in range(1,5):\n",
    "    plt.subplot(2,2,i)\n",
    "    sim_1 = np.random.choice(werte,size=10, replace = True)\n",
    "    sim_2 = np.random.choice(werte,size=10, replace = True)\n",
    "    sim_3 = np.random.choice(werte,size=10, replace = True)\n",
    "    sim_mean_3 = (sim_1+sim_2+sim_3)/3\n",
    "    plt.hist(sim_mean_3,bins=np.linspace(0,11+1/3,35),edgecolor=\"black\")"
   ]
  },
  {
   "cell_type": "code",
   "execution_count": 52,
   "metadata": {},
   "outputs": [
    {
     "data": {
      "image/png": "[encoded data removed]",
      "text/plain": [
       "<Figure size 432x288 with 4 Axes>"
      ]
     },
     "metadata": {
      "needs_background": "light"
     },
     "output_type": "display_data"
    }
   ],
   "source": [
    "# Code nur fuer n=16\n",
    "# 1. Subplot mit 2 Reihen und zwei Spalten\n",
    "\n",
    "n = 1024\n",
    "i = 1\n",
    "for n in [16,54,256,1024]:\n",
    "    plt.subplot(2,2,i)\n",
    "    # es werden 1000*n zufaellige Zahlen aus werte gezogen\n",
    "    sim = np.random.choice(werte,1000*n, replace = True)\n",
    "    # reshape: Vektor wird in eine n x 1000-Matrix umgewandelt (1000 Spalten)\n",
    "    sim = np.reshape(sim, (n,1000))\n",
    "    # Mittelwert aller Spalten (axis=0)\n",
    "    sim_mean = np.mean(sim, axis=0)\n",
    "    # Festlegung des x-Bereiches (damit die Skizzen miteinander vergleichbar sind)\n",
    "    plt.xlim(2,12)\n",
    "    plt.title(\"n=16\")\n",
    "    plt.hist(sim_mean,edgecolor=\"black\",bins=\"auto\")\n",
    "    i = i+1"
   ]
  },
  {
   "cell_type": "code",
   "execution_count": 71,
   "metadata": {},
   "outputs": [
    {
     "name": "stderr",
     "output_type": "stream",
     "text": [
      "C:\\Users\\flori\\Anaconda3\\lib\\site-packages\\ipykernel_launcher.py:14: MatplotlibDeprecationWarning: \n",
      "The 'normed' kwarg was deprecated in Matplotlib 2.1 and will be removed in 3.1. Use 'density' instead.\n",
      "  \n"
     ]
    },
    {
     "data": {
      "text/plain": [
       "(array([0.00820513, 0.02461538, 0.01367521, 0.09299145, 0.00820513,\n",
       "        0.19418803, 0.01641026, 0.36649573, 0.19965812, 0.31726496,\n",
       "        0.41025641, 0.16410256, 0.41846154, 0.06290598, 0.2625641 ,\n",
       "        0.05470085, 0.07931624, 0.0191453 , 0.0191453 , 0.00273504]),\n",
       " array([ 3.25    ,  3.615625,  3.98125 ,  4.346875,  4.7125  ,  5.078125,\n",
       "         5.44375 ,  5.809375,  6.175   ,  6.540625,  6.90625 ,  7.271875,\n",
       "         7.6375  ,  8.003125,  8.36875 ,  8.734375,  9.1     ,  9.465625,\n",
       "         9.83125 , 10.196875, 10.5625  ]),\n",
       " <a list of 20 Patch objects>)"
      ]
     },
     "execution_count": 71,
     "metadata": {},
     "output_type": "execute_result"
    },
    {
     "data": {
      "image/png": "[encoded data removed]",
      "text/plain": [
       "<Figure size 432x288 with 1 Axes>"
      ]
     },
     "metadata": {
      "needs_background": "light"
     },
     "output_type": "display_data"
    }
   ],
   "source": [
    "from scipy.stats import norm\n",
    "plt.subplot(2,2,1)\n",
    "n = 16\n",
    "sim = np.reshape(np.random.choice(werte,1000*n, replace = True), (n,1000))\n",
    "sim_mean = np.mean(sim, axis=0)\n",
    "plt.xlim(2,12)\n",
    "plt.title(f\"n={n}\")\n",
    "# Festlegung der x-Werte: 500 Werte zwischen 2 und 12\n",
    "x = np.linspace(2,12,500)\n",
    "# Berechung der zugehoerigen Funktionswerte\n",
    "y = norm.pdf(x, loc=7, scale=sd_X/np.sqrt(n))\n",
    "plt.plot(x,y,color=\"orange\")\n",
    "#Normierung, dass die Flaeche des Histogrammes 1 ist\n",
    "plt.hist(sim_mean, edgecolor=\"black\", bins=\"auto\", normed=True)"
   ]
  },
  {
   "cell_type": "code",
   "execution_count": 72,
   "metadata": {},
   "outputs": [
    {
     "data": {
      "text/plain": [
       "0.9772498680518208"
      ]
     },
     "execution_count": 72,
     "metadata": {},
     "output_type": "execute_result"
    }
   ],
   "source": [
    "from scipy.stats import uniform, expon, norm\n",
    "import math\n",
    "norm.cdf(x=5100, loc=5000, scale = math.sqrt(2500))"
   ]
  },
  {
   "cell_type": "code",
   "execution_count": 73,
   "metadata": {},
   "outputs": [
    {
     "data": {
      "text/plain": [
       "0.9777871004771368"
      ]
     },
     "execution_count": 73,
     "metadata": {},
     "output_type": "execute_result"
    }
   ],
   "source": [
    "from scipy.stats import uniform, expon, norm, binom\n",
    "import math\n",
    "binom.cdf(k=5100, n=10000, p=0.5)"
   ]
  }
 ],
 "metadata": {
  "kernelspec": {
   "display_name": "Python 3",
   "language": "python",
   "name": "python3"
  },
  "language_info": {
   "codemirror_mode": {
    "name": "ipython",
    "version": 3
   },
   "file_extension": ".py",
   "mimetype": "text/x-python",
   "name": "python",
   "nbconvert_exporter": "python",
   "pygments_lexer": "ipython3",
   "version": "3.7.3"
  },
  "pycharm": {
   "stem_cell": {
    "cell_type": "raw",
    "metadata": {
     "collapsed": false
    },
    "source": []
   }
  }
 },
 "nbformat": 4,
 "nbformat_minor": 1
}
